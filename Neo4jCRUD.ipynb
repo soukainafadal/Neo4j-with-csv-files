{
 "cells": [
  {
   "cell_type": "markdown",
   "metadata": {},
   "source": [
    "# Neo4j with python"
   ]
  },
  {
   "cell_type": "markdown",
   "metadata": {},
   "source": [
    "Neo4j packages Installation"
   ]
  },
  {
   "cell_type": "code",
   "execution_count": 1,
   "metadata": {},
   "outputs": [
    {
     "name": "stdout",
     "output_type": "stream",
     "text": [
      "Requirement already satisfied: neo4j in c:\\users\\admin\\anaconda3\\lib\\site-packages (4.4.1)\n",
      "Requirement already satisfied: pytz in c:\\users\\admin\\anaconda3\\lib\\site-packages (from neo4j) (2018.7)\n"
     ]
    }
   ],
   "source": [
    "! pip install neo4j"
   ]
  },
  {
   "cell_type": "code",
   "execution_count": 2,
   "metadata": {},
   "outputs": [],
   "source": [
    "from neo4j import GraphDatabase"
   ]
  },
  {
   "cell_type": "markdown",
   "metadata": {},
   "source": [
    "Connect with Neo4j database"
   ]
  },
  {
   "cell_type": "code",
   "execution_count": 3,
   "metadata": {},
   "outputs": [],
   "source": [
    "uri=\"bolt://localhost:7687\"\n",
    "pwd=\"root\"\n",
    "driver= GraphDatabase.driver(uri, auth=(\"neo4j\",pwd))"
   ]
  },
  {
   "cell_type": "code",
   "execution_count": 4,
   "metadata": {},
   "outputs": [
    {
     "data": {
      "text/plain": [
       "<neo4j.BoltDriver at 0x4e63f30>"
      ]
     },
     "execution_count": 4,
     "metadata": {},
     "output_type": "execute_result"
    }
   ],
   "source": [
    "driver"
   ]
  },
  {
   "cell_type": "code",
   "execution_count": 5,
   "metadata": {},
   "outputs": [],
   "source": [
    "session=driver.session()"
   ]
  },
  {
   "cell_type": "markdown",
   "metadata": {},
   "source": [
    "Execute ou queries"
   ]
  },
  {
   "cell_type": "code",
   "execution_count": 6,
   "metadata": {},
   "outputs": [
    {
     "data": {
      "text/plain": [
       "<neo4j.work.result.Result at 0x4e75830>"
      ]
     },
     "execution_count": 6,
     "metadata": {},
     "output_type": "execute_result"
    }
   ],
   "source": [
    "query=\"MATCH (n) RETURN n\"\n",
    "session.run(query)"
   ]
  },
  {
   "cell_type": "code",
   "execution_count": 7,
   "metadata": {},
   "outputs": [],
   "source": [
    "nodes=session.run(query)"
   ]
  },
  {
   "cell_type": "markdown",
   "metadata": {},
   "source": [
    "Display all nodes"
   ]
  },
  {
   "cell_type": "code",
   "execution_count": 8,
   "metadata": {},
   "outputs": [
    {
     "name": "stdout",
     "output_type": "stream",
     "text": [
      "<Record n=<Node id=0 labels=frozenset({'Title'}) properties={'Name': 'Grokking Algorithms'}>>\n",
      "<Record n=<Node id=1074 labels=frozenset({'Title'}) properties={'Pages': '228', 'Name': 'Fundamentals of Wavelets'}>>\n",
      "<Record n=<Node id=1075 labels=frozenset({'Title'}) properties={'Pages': '235', 'Name': 'Data Smart'}>>\n",
      "<Record n=<Node id=1076 labels=frozenset({'Title'}) properties={'Pages': '197', 'Name': 'God Created the Integers'}>>\n",
      "<Record n=<Node id=1077 labels=frozenset({'Title'}) properties={'Pages': '179', 'Name': 'Superfreakonomics'}>>\n",
      "<Record n=<Node id=1078 labels=frozenset({'Title'}) properties={'Pages': '197', 'Name': 'Orientalism'}>>\n",
      "<Record n=<Node id=1079 labels=frozenset({'Title'}) properties={'Pages': '230', 'Name': 'Nature of Statistical Learning Theory, The'}>>\n",
      "<Record n=<Node id=1080 labels=frozenset({'Title'}) properties={'Pages': '217', 'Name': 'Integration of the Indian States'}>>\n",
      "<Record n=<Node id=1081 labels=frozenset({'Title'}) properties={'Pages': '197', 'Name': \"Drunkard's Walk, The\"}>>\n",
      "<Record n=<Node id=1082 labels=frozenset({'Title'}) properties={'Pages': '241', 'Name': 'Image Processing & Mathematical Morphology'}>>\n",
      "<Record n=<Node id=1083 labels=frozenset({'Title'}) properties={'Pages': '240', 'Name': 'How to Think Like Sherlock Holmes'}>>\n",
      "<Record n=<Node id=1084 labels=frozenset({'Title'}) properties={'Pages': '230', 'Name': 'Data Scientists at Work'}>>\n",
      "<Record n=<Node id=1085 labels=frozenset({'Title'}) properties={'Pages': '198', 'Name': 'Slaughterhouse Five'}>>\n",
      "<Record n=<Node id=1086 labels=frozenset({'Title'}) properties={'Pages': '234', 'Name': 'Birth of a Theorem'}>>\n",
      "<Record n=<Node id=1087 labels=frozenset({'Title'}) properties={'Pages': '240', 'Name': 'Structure & Interpretation of Computer Programs'}>>\n",
      "<Record n=<Node id=1088 labels=frozenset({'Title'}) properties={'Pages': '238', 'Name': 'Age of Wrath, The'}>>\n",
      "<Record n=<Node id=1089 labels=frozenset({'Title'}) properties={'Pages': '198', 'Name': 'Trial, The'}>>\n",
      "<Record n=<Node id=1090 labels=frozenset({'Title'}) properties={'Pages': '236', 'Name': \"Statistical Decision Theory'\"}>>\n",
      "<Record n=<Node id=1091 labels=frozenset({'Title'}) properties={'Pages': '242', 'Name': 'Data Mining Handbook'}>>\n",
      "<Record n=<Node id=1092 labels=frozenset({'Title'}) properties={'Pages': '180', 'Name': 'New Machiavelli, The'}>>\n",
      "<Record n=<Node id=1093 labels=frozenset({'Title'}) properties={'Pages': '197', 'Name': 'Physics & Philosophy'}>>\n",
      "<Record n=<Node id=1094 labels=frozenset({'Title'}) properties={'Pages': '232', 'Name': 'Making Software'}>>\n",
      "<Record n=<Node id=1095 labels=frozenset({'Title'}) properties={'Pages': '248', 'Name': 'Analysis, Vol I'}>>\n",
      "<Record n=<Node id=1096 labels=frozenset({'Title'}) properties={'Pages': '233', 'Name': 'Machine Learning for Hackers'}>>\n",
      "<Record n=<Node id=1097 labels=frozenset({'Title'}) properties={'Pages': '233', 'Name': 'Signal and the Noise, The'}>>\n",
      "<Record n=<Node id=1098 labels=frozenset({'Title'}) properties={'Pages': '233', 'Name': 'Python for Data Analysis'}>>\n",
      "<Record n=<Node id=1099 labels=frozenset({'Title'}) properties={'Pages': '234', 'Name': 'Introduction to Algorithms'}>>\n",
      "<Record n=<Node id=1100 labels=frozenset({'Title'}) properties={'Pages': '198', 'Name': 'Beautiful and the Damned, The'}>>\n",
      "<Record n=<Node id=1101 labels=frozenset({'Title'}) properties={'Pages': '198', 'Name': 'Outsider, The'}>>\n",
      "<Record n=<Node id=1102 labels=frozenset({'Title'}) properties={'Pages': '176', 'Name': 'Complete Sherlock Holmes, The - Vol I'}>>\n",
      "<Record n=<Node id=1103 labels=frozenset({'Title'}) properties={'Pages': '176', 'Name': 'Complete Sherlock Holmes, The - Vol II'}>>\n",
      "<Record n=<Node id=1104 labels=frozenset({'Title'}) properties={'Pages': '175', 'Name': 'Wealth of Nations, The'}>>\n",
      "<Record n=<Node id=1105 labels=frozenset({'Title'}) properties={'Pages': '176', 'Name': 'Pillars of the Earth, The'}>>\n",
      "<Record n=<Node id=1106 labels=frozenset({'Title'}) properties={'Pages': '212', 'Name': 'Mein Kampf'}>>\n",
      "<Record n=<Node id=1107 labels=frozenset({'Title'}) properties={'Pages': '179', 'Name': 'Tao of Physics, The'}>>\n",
      "<Record n=<Node id=1108 labels=frozenset({'Title'}) properties={'Pages': '198', 'Name': \"Surely You're Joking Mr Feynman\"}>>\n",
      "<Record n=<Node id=1109 labels=frozenset({'Title'}) properties={'Pages': '179', 'Name': 'Farewell to Arms, A'}>>\n",
      "<Record n=<Node id=1110 labels=frozenset({'Title'}) properties={'Pages': '177', 'Name': 'Veteran, The'}>>\n",
      "<Record n=<Node id=1111 labels=frozenset({'Title'}) properties={'Pages': '177', 'Name': 'False Impressions'}>>\n",
      "<Record n=<Node id=1112 labels=frozenset({'Title'}) properties={'Pages': '197', 'Name': 'Last Lecture, The'}>>\n",
      "<Record n=<Node id=1113 labels=frozenset({'Title'}) properties={'Pages': '202', 'Name': 'Return of the Primitive'}>>\n",
      "<Record n=<Node id=1114 labels=frozenset({'Title'}) properties={'Pages': '174', 'Name': 'Jurassic Park'}>>\n",
      "<Record n=<Node id=1115 labels=frozenset({'Title'}) properties={'Pages': '196', 'Name': 'Russian Journal, A'}>>\n",
      "<Record n=<Node id=1116 labels=frozenset({'Title'}) properties={'Pages': '172', 'Name': 'Tales of Mystery and Imagination'}>>\n",
      "<Record n=<Node id=1117 labels=frozenset({'Title'}) properties={'Pages': '197', 'Name': 'Freakonomics'}>>\n",
      "<Record n=<Node id=1118 labels=frozenset({'Title'}) properties={'Pages': '197', 'Name': 'Hidden Connections, The'}>>\n",
      "<Record n=<Node id=1119 labels=frozenset({'Title'}) properties={'Pages': '170', 'Name': 'Story of Philosophy, The'}>>\n",
      "<Record n=<Node id=1120 labels=frozenset({'Title'}) properties={'Pages': '205', 'Name': 'Asami Asami'}>>\n",
      "<Record n=<Node id=1121 labels=frozenset({'Title'}) properties={'Pages': '196', 'Name': 'Journal of a Novel'}>>\n",
      "<Record n=<Node id=1122 labels=frozenset({'Title'}) properties={'Pages': '196', 'Name': 'Once There Was a War'}>>\n",
      "<Record n=<Node id=1123 labels=frozenset({'Title'}) properties={'Pages': '196', 'Name': 'Moon is Down, The'}>>\n",
      "<Record n=<Node id=1124 labels=frozenset({'Title'}) properties={'Pages': '174', 'Name': 'Brethren, The'}>>\n",
      "<Record n=<Node id=1125 labels=frozenset({'Title'}) properties={'Pages': '196', 'Name': 'In a Free State'}>>\n",
      "<Record n=<Node id=1126 labels=frozenset({'Title'}) properties={'Pages': '178', 'Name': 'Catch 22'}>>\n",
      "<Record n=<Node id=1127 labels=frozenset({'Title'}) properties={'Pages': '178', 'Name': 'Complete Mastermind, The'}>>\n",
      "<Record n=<Node id=1128 labels=frozenset({'Title'}) properties={'Pages': '197', 'Name': 'Dylan on Dylan'}>>\n",
      "<Record n=<Node id=1129 labels=frozenset({'Title'}) properties={'Pages': '242', 'Name': 'Soft Computing & Intelligent Systems'}>>\n",
      "<Record n=<Node id=1130 labels=frozenset({'Title'}) properties={'Pages': '242', 'Name': 'Textbook of Economic Theory'}>>\n",
      "<Record n=<Node id=1131 labels=frozenset({'Title'}) properties={'Pages': '242', 'Name': 'Econometric Analysis'}>>\n",
      "<Record n=<Node id=1132 labels=frozenset({'Title'}) properties={'Pages': '232', 'Name': 'Learning OpenCV'}>>\n",
      "<Record n=<Node id=1133 labels=frozenset({'Title'}) properties={'Pages': '235', 'Name': 'Data Structures Using C & C++'}>>\n",
      "<Record n=<Node id=1134 labels=frozenset({'Title'}) properties={'Pages': '255', 'Name': 'Computer Vision, A Modern Approach'}>>\n",
      "<Record n=<Node id=1135 labels=frozenset({'Title'}) properties={'Pages': '240', 'Name': 'Principles of Communication Systems'}>>\n",
      "<Record n=<Node id=1136 labels=frozenset({'Title'}) properties={'Pages': '213', 'Name': 'Let Us C'}>>\n",
      "<Record n=<Node id=1137 labels=frozenset({'Title'}) properties={'Pages': '179', 'Name': 'Amulet of Samarkand, The'}>>\n",
      "<Record n=<Node id=1138 labels=frozenset({'Title'}) properties={'Pages': '180', 'Name': 'Crime and Punishment'}>>\n",
      "<Record n=<Node id=1139 labels=frozenset({'Title'}) properties={'Pages': '178', 'Name': 'Angels & Demons'}>>\n",
      "<Record n=<Node id=1140 labels=frozenset({'Title'}) properties={'Pages': '209', 'Name': 'Argumentative Indian, The'}>>\n",
      "<Record n=<Node id=1141 labels=frozenset({'Title'}) properties={'Pages': '197', 'Name': 'Sea of Poppies'}>>\n",
      "<Record n=<Node id=1142 labels=frozenset({'Title'}) properties={'Pages': '212', 'Name': 'Idea of Justice, The'}>>\n",
      "<Record n=<Node id=1143 labels=frozenset({'Title'}) properties={'Pages': '175', 'Name': 'Raisin in the Sun, A'}>>\n",
      "<Record n=<Node id=1144 labels=frozenset({'Title'}) properties={'Pages': '177', 'Name': \"All the President's Men\"}>>\n",
      "<Record n=<Node id=1145 labels=frozenset({'Title'}) properties={'Pages': '176', 'Name': 'Prisoner of Birth, A'}>>\n",
      "<Record n=<Node id=1146 labels=frozenset({'Title'}) properties={'Pages': '216', 'Name': 'Scoop!'}>>\n",
      "<Record n=<Node id=1147 labels=frozenset({'Title'}) properties={'Pages': '213', 'Name': 'Ahe Manohar Tari'}>>\n",
      "<Record n=<Node id=1148 labels=frozenset({'Title'}) properties={'Pages': '199', 'Name': 'Last Mughal, The'}>>\n",
      "<Record n=<Node id=1149 labels=frozenset({'Title'}) properties={'Pages': '235', 'Name': 'Social Choice & Welfare, Vol 39 No. 1'}>>\n",
      "<Record n=<Node id=1150 labels=frozenset({'Title'}) properties={'Pages': '213', 'Name': 'Radiowaril Bhashane & Shrutika'}>>\n",
      "<Record n=<Node id=1151 labels=frozenset({'Title'}) properties={'Pages': '212', 'Name': 'Gun Gayin Awadi'}>>\n",
      "<Record n=<Node id=1152 labels=frozenset({'Title'}) properties={'Pages': '212', 'Name': 'Aghal Paghal'}>>\n",
      "<Record n=<Node id=1153 labels=frozenset({'Title'}) properties={'Pages': '221', 'Name': 'Maqta-e-Ghalib'}>>\n",
      "<Record n=<Node id=1154 labels=frozenset({'Title'}) properties={'Name': 'Beyond Degrees'}>>\n",
      "<Record n=<Node id=1155 labels=frozenset({'Title'}) properties={'Pages': '213', 'Name': 'Manasa'}>>\n",
      "<Record n=<Node id=1156 labels=frozenset({'Title'}) properties={'Pages': '198', 'Name': 'India from Midnight to Milennium'}>>\n",
      "<Record n=<Node id=1157 labels=frozenset({'Title'}) properties={'Name': \"World's Greatest Trials, The\"}>>\n",
      "<Record n=<Node id=1158 labels=frozenset({'Title'}) properties={'Pages': '198', 'Name': 'Great Indian Novel, The'}>>\n",
      "<Record n=<Node id=1159 labels=frozenset({'Title'}) properties={'Pages': '217', 'Name': 'O Jerusalem!'}>>\n",
      "<Record n=<Node id=1160 labels=frozenset({'Title'}) properties={'Pages': '177', 'Name': 'City of Joy, The'}>>\n",
      "<Record n=<Node id=1161 labels=frozenset({'Title'}) properties={'Pages': '167', 'Name': 'Freedom at Midnight'}>>\n",
      "<Record n=<Node id=1162 labels=frozenset({'Title'}) properties={'Pages': '196', 'Name': 'Winter of Our Discontent, The'}>>\n",
      "<Record n=<Node id=1163 labels=frozenset({'Title'}) properties={'Pages': '203', 'Name': 'On Education'}>>\n",
      "<Record n=<Node id=1164 labels=frozenset({'Title'}) properties={'Pages': '203', 'Name': 'Free Will'}>>\n",
      "<Record n=<Node id=1165 labels=frozenset({'Title'}) properties={'Pages': '206', 'Name': 'Bookless in Baghdad'}>>\n",
      "<Record n=<Node id=1166 labels=frozenset({'Title'}) properties={'Name': 'Case of the Lame Canary, The'}>>\n",
      "<Record n=<Node id=1167 labels=frozenset({'Title'}) properties={'Pages': '217', 'Name': 'Theory of Everything, The'}>>\n",
      "<Record n=<Node id=1168 labels=frozenset({'Title'}) properties={'Pages': '176', 'Name': 'New Markets & Other Essays'}>>\n",
      "<Record n=<Node id=1169 labels=frozenset({'Title'}) properties={'Pages': '201', 'Name': 'Electric Universe'}>>\n",
      "<Record n=<Node id=1170 labels=frozenset({'Title'}) properties={'Pages': '175', 'Name': 'Hunchback of Notre Dame, The'}>>\n",
      "<Record n=<Node id=1171 labels=frozenset({'Title'}) properties={'Pages': '175', 'Name': 'Burning Bright'}>>\n",
      "<Record n=<Node id=1172 labels=frozenset({'Title'}) properties={'Pages': '178', 'Name': 'Age of Discontuinity, The'}>>\n",
      "<Record n=<Node id=1173 labels=frozenset({'Title'}) properties={'Pages': '179', 'Name': 'Doctor in the Nude'}>>\n",
      "<Record n=<Node id=1174 labels=frozenset({'Title'}) properties={'Pages': '179', 'Name': 'Down and Out in Paris & London'}>>\n",
      "<Record n=<Node id=1175 labels=frozenset({'Title'}) properties={'Pages': '219', 'Name': 'Identity & Violence'}>>\n",
      "<Record n=<Node id=1176 labels=frozenset({'Title'}) properties={'Pages': '197', 'Name': 'Beyond the Three Seas'}>>\n",
      "<Record n=<Node id=1177 labels=frozenset({'Title'}) properties={'Name': \"World's Greatest Short Stories, The\"}>>\n",
      "<Record n=<Node id=1178 labels=frozenset({'Title'}) properties={'Name': 'Talking Straight'}>>\n",
      "<Record n=<Node id=1179 labels=frozenset({'Title'}) properties={'Pages': '171', 'Name': \"Maugham's Collected Short Stories, Vol 3\"}>>\n",
      "<Record n=<Node id=1180 labels=frozenset({'Title'}) properties={'Name': 'Phantom of Manhattan, The'}>>\n",
      "<Record n=<Node id=1181 labels=frozenset({'Title'}) properties={'Pages': '160', 'Name': 'Ashenden of The British Agent'}>>\n",
      "<Record n=<Node id=1182 labels=frozenset({'Title'}) properties={'Pages': '172', 'Name': 'Zen & The Art of Motorcycle Maintenance'}>>\n",
      "<Record n=<Node id=1183 labels=frozenset({'Title'}) properties={'Pages': '197', 'Name': 'Great War for Civilization, The'}>>\n",
      "<Record n=<Node id=1184 labels=frozenset({'Title'}) properties={'Pages': '178', 'Name': 'We the Living'}>>\n",
      "<Record n=<Node id=1185 labels=frozenset({'Title'}) properties={'Pages': '186', 'Name': 'Artist and the Mathematician, The'}>>\n",
      "<Record n=<Node id=1186 labels=frozenset({'Title'}) properties={'Pages': '213', 'Name': 'History of Western Philosophy'}>>\n",
      "<Record n=<Node id=1187 labels=frozenset({'Title'}) properties={'Name': 'Selected Short Stories'}>>\n",
      "<Record n=<Node id=1188 labels=frozenset({'Title'}) properties={'Pages': '213', 'Name': 'Rationality & Freedom'}>>\n",
      "<Record n=<Node id=1189 labels=frozenset({'Title'}) properties={'Pages': '228', 'Name': 'Clash of Civilizations and Remaking of the World Order'}>>\n",
      "<Record n=<Node id=1190 labels=frozenset({'Title'}) properties={'Pages': '197', 'Name': 'Uncommon Wisdom'}>>\n",
      "<Record n=<Node id=1191 labels=frozenset({'Title'}) properties={'Pages': '172', 'Name': 'One'}>>\n",
      "<Record n=<Node id=1192 labels=frozenset({'Title'}) properties={'Name': 'Karl Marx Biography'}>>\n",
      "<Record n=<Node id=1193 labels=frozenset({'Title'}) properties={'Pages': '197', 'Name': 'To Sir With Love'}>>\n",
      "<Record n=<Node id=1194 labels=frozenset({'Title'}) properties={'Name': 'Half A Life'}>>\n",
      "<Record n=<Node id=1195 labels=frozenset({'Title'}) properties={'Name': 'Discovery of India, The'}>>\n",
      "<Record n=<Node id=1196 labels=frozenset({'Title'}) properties={'Name': 'Apulki'}>>\n",
      "<Record n=<Node id=1197 labels=frozenset({'Title'}) properties={'Name': 'Unpopular Essays'}>>\n",
      "<Record n=<Node id=1198 labels=frozenset({'Title'}) properties={'Name': 'Deceiver, The'}>>\n",
      "<Record n=<Node id=1199 labels=frozenset({'Title'}) properties={'Name': 'Veil: Secret Wars of the CIA'}>>\n",
      "<Record n=<Node id=1200 labels=frozenset({'Title'}) properties={'Name': 'Char Shabda'}>>\n",
      "<Record n=<Node id=1201 labels=frozenset({'Title'}) properties={'Name': 'Rosy is My Relative'}>>\n",
      "<Record n=<Node id=1202 labels=frozenset({'Title'}) properties={'Name': 'Moon and Sixpence, The'}>>\n",
      "<Record n=<Node id=1203 labels=frozenset({'Title'}) properties={'Name': 'Political Philosophers'}>>\n",
      "<Record n=<Node id=1204 labels=frozenset({'Title'}) properties={'Name': 'Short History of the World, A'}>>\n",
      "<Record n=<Node id=1205 labels=frozenset({'Title'}) properties={'Name': 'Trembling of a Leaf, The'}>>\n",
      "<Record n=<Node id=1206 labels=frozenset({'Title'}) properties={'Name': 'Doctor on the Brain'}>>\n",
      "<Record n=<Node id=1207 labels=frozenset({'Title'}) properties={'Name': 'Simpsons & Their Mathematical Secrets'}>>\n",
      "<Record n=<Node id=1208 labels=frozenset({'Title'}) properties={'Name': 'Pattern Classification'}>>\n",
      "<Record n=<Node id=1209 labels=frozenset({'Title'}) properties={'Name': 'From Beirut to Jerusalem'}>>\n",
      "<Record n=<Node id=1210 labels=frozenset({'Title'}) properties={'Name': 'Code Book, The'}>>\n",
      "<Record n=<Node id=1211 labels=frozenset({'Title'}) properties={'Name': 'Age of the Warrior, The'}>>\n",
      "<Record n=<Node id=1212 labels=frozenset({'Title'}) properties={'Name': 'Final Crisis'}>>\n",
      "<Record n=<Node id=1213 labels=frozenset({'Title'}) properties={'Name': 'Killing Joke, The'}>>\n",
      "<Record n=<Node id=1214 labels=frozenset({'Title'}) properties={'Name': 'Flashpoint'}>>\n",
      "<Record n=<Node id=1215 labels=frozenset({'Title'}) properties={'Name': 'Batman Earth One'}>>\n",
      "<Record n=<Node id=1216 labels=frozenset({'Title'}) properties={'Name': 'Crisis on Infinite Earths'}>>\n",
      "<Record n=<Node id=1217 labels=frozenset({'Title'}) properties={'Name': 'Numbers Behind Numb3rs, The'}>>\n",
      "<Record n=<Node id=1218 labels=frozenset({'Title'}) properties={'Name': 'Superman Earth One - 1'}>>\n",
      "<Record n=<Node id=1219 labels=frozenset({'Title'}) properties={'Name': 'Superman Earth One - 2'}>>\n",
      "<Record n=<Node id=1220 labels=frozenset({'Title'}) properties={'Name': 'Justice League: Throne of Atlantis'}>>\n",
      "<Record n=<Node id=1221 labels=frozenset({'Title'}) properties={'Name': \"Justice League: The Villain's Journey\"}>>\n",
      "<Record n=<Node id=1222 labels=frozenset({'Title'}) properties={'Name': 'Death of Superman, The'}>>\n",
      "<Record n=<Node id=1223 labels=frozenset({'Title'}) properties={'Name': 'History of the DC Universe'}>>\n",
      "<Record n=<Node id=1224 labels=frozenset({'Title'}) properties={'Name': 'Batman: The Long Halloween'}>>\n",
      "<Record n=<Node id=1225 labels=frozenset({'Title'}) properties={'Name': 'Life in Letters, A'}>>\n",
      "<Record n=<Node id=1226 labels=frozenset({'Title'}) properties={'Name': 'Information, The'}>>\n",
      "<Record n=<Node id=1227 labels=frozenset({'Title'}) properties={'Name': 'Journal of Economics, vol 106 No 3'}>>\n",
      "<Record n=<Node id=1228 labels=frozenset({'Title'}) properties={'Name': 'Elements of Information Theory'}>>\n",
      "<Record n=<Node id=1229 labels=frozenset({'Title'}) properties={'Name': 'Power Electronics - Rashid'}>>\n",
      "<Record n=<Node id=1230 labels=frozenset({'Title'}) properties={'Name': 'Power Electronics - Mohan'}>>\n",
      "<Record n=<Node id=1231 labels=frozenset({'Title'}) properties={'Name': 'Neural Networks'}>>\n",
      "<Record n=<Node id=1232 labels=frozenset({'Title'}) properties={'Name': 'Grapes of Wrath, The'}>>\n",
      "<Record n=<Node id=1233 labels=frozenset({'Title'}) properties={'Name': 'Vyakti ani Valli'}>>\n",
      "<Record n=<Node id=1234 labels=frozenset({'Title'}) properties={'Name': 'Statistical Learning Theory'}>>\n",
      "<Record n=<Node id=1235 labels=frozenset({'Title'}) properties={'Name': 'Empire of the Mughal - The Tainted Throne'}>>\n",
      "<Record n=<Node id=1236 labels=frozenset({'Title'}) properties={'Name': 'Empire of the Mughal - Brothers at War'}>>\n",
      "<Record n=<Node id=1237 labels=frozenset({'Title'}) properties={'Name': 'Empire of the Mughal - Ruler of the World'}>>\n",
      "<Record n=<Node id=1238 labels=frozenset({'Title'}) properties={'Name': \"Empire of the Mughal - The Serpent's Tooth\"}>>\n",
      "<Record n=<Node id=1239 labels=frozenset({'Title'}) properties={'Name': 'Empire of the Mughal - Raiders from the North'}>>\n",
      "<Record n=<Node id=1240 labels=frozenset({'Title'}) properties={'Name': 'Mossad'}>>\n",
      "<Record n=<Node id=1241 labels=frozenset({'Title'}) properties={'Name': 'Jim Corbett Omnibus'}>>\n",
      "<Record n=<Node id=1242 labels=frozenset({'Title'}) properties={'Name': '20000 Leagues Under the Sea'}>>\n",
      "<Record n=<Node id=1243 labels=frozenset({'Title'}) properties={'Name': 'Batatyachi Chal'}>>\n",
      "<Record n=<Node id=1244 labels=frozenset({'Title'}) properties={'Name': 'Hafasavnuk'}>>\n",
      "<Record n=<Node id=1245 labels=frozenset({'Title'}) properties={'Name': 'Urlasurla'}>>\n",
      "<Record n=<Node id=1246 labels=frozenset({'Title'}) properties={'Name': 'Pointers in C'}>>\n",
      "<Record n=<Node id=1247 labels=frozenset({'Title'}) properties={'Name': 'Cathedral and the Bazaar, The'}>>\n",
      "<Record n=<Node id=1248 labels=frozenset({'Title'}) properties={'Name': 'Design with OpAmps'}>>\n",
      "<Record n=<Node id=1249 labels=frozenset({'Title'}) properties={'Name': 'Think Complexity'}>>\n",
      "<Record n=<Node id=1250 labels=frozenset({'Title'}) properties={'Name': \"Devil's Advocate, The\"}>>\n",
      "<Record n=<Node id=1251 labels=frozenset({'Title'}) properties={'Name': 'Ayn Rand Answers'}>>\n",
      "<Record n=<Node id=1252 labels=frozenset({'Title'}) properties={'Name': 'Philosophy: Who Needs It'}>>\n",
      "<Record n=<Node id=1253 labels=frozenset({'Title'}) properties={'Name': \"World's Great Thinkers, The\"}>>\n",
      "<Record n=<Node id=1254 labels=frozenset({'Title'}) properties={'Name': 'Data Analysis with Open Source Tools'}>>\n",
      "<Record n=<Node id=1255 labels=frozenset({'Title'}) properties={'Name': \"Broca's Brain\"}>>\n",
      "<Record n=<Node id=1256 labels=frozenset({'Title'}) properties={'Name': 'Men of Mathematics'}>>\n",
      "<Record n=<Node id=1257 labels=frozenset({'Title'}) properties={'Name': 'Oxford book of Modern Science Writing'}>>\n",
      "<Record n=<Node id=1258 labels=frozenset({'Title'}) properties={'Name': 'Justice, Judiciary and Democracy'}>>\n",
      "<Record n=<Node id=1259 labels=frozenset({'Title'}) properties={'Name': 'Arthashastra, The'}>>\n",
      "<Record n=<Node id=1260 labels=frozenset({'Title'}) properties={'Name': 'We the People'}>>\n",
      "<Record n=<Node id=1261 labels=frozenset({'Title'}) properties={'Name': 'We the Nation'}>>\n",
      "<Record n=<Node id=1262 labels=frozenset({'Title'}) properties={'Name': 'Courtroom Genius, The'}>>\n",
      "<Record n=<Node id=1263 labels=frozenset({'Title'}) properties={'Name': 'Dongri to Dubai'}>>\n",
      "<Record n=<Node id=1264 labels=frozenset({'Title'}) properties={'Name': 'History of England, Foundation'}>>\n",
      "<Record n=<Node id=1265 labels=frozenset({'Title'}) properties={'Name': 'City of Djinns'}>>\n",
      "<Record n=<Node id=1266 labels=frozenset({'Title'}) properties={'Name': \"India's Legal System\"}>>\n",
      "<Record n=<Node id=1267 labels=frozenset({'Title'}) properties={'Name': 'More Tears to Cry'}>>\n",
      "<Record n=<Node id=1268 labels=frozenset({'Title'}) properties={'Name': 'Ropemaker, The'}>>\n",
      "<Record n=<Node id=1269 labels=frozenset({'Title'}) properties={'Name': 'Judge, The'}>>\n",
      "<Record n=<Node id=1270 labels=frozenset({'Title'}) properties={'Name': 'Attorney, The'}>>\n",
      "<Record n=<Node id=1271 labels=frozenset({'Title'}) properties={'Name': 'Prince, The'}>>\n",
      "<Record n=<Node id=1272 labels=frozenset({'Title'}) properties={'Name': 'Eyeless in Gaza'}>>\n",
      "<Record n=<Node id=1273 labels=frozenset({'Title'}) properties={'Name': 'Tales of Beedle the Bard'}>>\n",
      "<Record n=<Node id=1274 labels=frozenset({'Title'}) properties={'Name': 'Girl with the Dragon Tattoo'}>>\n",
      "<Record n=<Node id=1275 labels=frozenset({'Title'}) properties={'Name': \"Girl who kicked the Hornet's Nest\"}>>\n",
      "<Record n=<Node id=1276 labels=frozenset({'Title'}) properties={'Name': 'Girl who played with Fire'}>>\n",
      "<Record n=<Node id=1277 labels=frozenset({'Title'}) properties={'Name': 'Batman Handbook'}>>\n",
      "<Record n=<Node id=1278 labels=frozenset({'Title'}) properties={'Name': \"Murphy's Law\"}>>\n",
      "<Record n=<Node id=1279 labels=frozenset({'Title'}) properties={'Name': 'Structure and Randomness'}>>\n",
      "<Record n=<Node id=1280 labels=frozenset({'Title'}) properties={'Name': 'Image Processing with MATLAB'}>>\n",
      "<Record n=<Node id=1281 labels=frozenset({'Title'}) properties={'Name': 'Animal Farm'}>>\n",
      "<Record n=<Node id=1282 labels=frozenset({'Title'}) properties={'Name': 'Idiot, The'}>>\n",
      "<Record n=<Node id=1283 labels=frozenset({'Title'}) properties={'Name': 'Christmas Carol, A'}>>\n",
      "<Record n=<Node id=1424 labels=frozenset({'Author'}) properties={'Name': 'Goswami, Jaideva'}>>\n",
      "<Record n=<Node id=1425 labels=frozenset({'Author'}) properties={'Name': 'Foreman, John'}>>\n",
      "<Record n=<Node id=1426 labels=frozenset({'Author'}) properties={'Name': 'Hawking, Stephen'}>>\n",
      "<Record n=<Node id=1427 labels=frozenset({'Author'}) properties={'Name': 'Dubner, Stephen'}>>\n",
      "<Record n=<Node id=1428 labels=frozenset({'Author'}) properties={'Name': 'Said, Edward'}>>\n",
      "<Record n=<Node id=1429 labels=frozenset({'Author'}) properties={'Name': 'Vapnik, Vladimir'}>>\n",
      "<Record n=<Node id=1430 labels=frozenset({'Author'}) properties={'Name': 'Menon, V P'}>>\n",
      "<Record n=<Node id=1431 labels=frozenset({'Author'}) properties={'Name': 'Mlodinow, Leonard'}>>\n",
      "<Record n=<Node id=1432 labels=frozenset({'Author'}) properties={'Name': 'Shih, Frank'}>>\n",
      "<Record n=<Node id=1433 labels=frozenset({'Author'}) properties={'Name': 'Konnikova, Maria'}>>\n",
      "<Record n=<Node id=1434 labels=frozenset({'Author'}) properties={'Name': 'Sebastian Gutierrez'}>>\n",
      "<Record n=<Node id=1435 labels=frozenset({'Author'}) properties={'Name': 'Vonnegut, Kurt'}>>\n",
      "<Record n=<Node id=1436 labels=frozenset({'Author'}) properties={'Name': 'Villani, Cedric'}>>\n",
      "<Record n=<Node id=1437 labels=frozenset({'Author'}) properties={'Name': 'Sussman, Gerald'}>>\n",
      "<Record n=<Node id=1438 labels=frozenset({'Author'}) properties={'Name': 'Eraly, Abraham'}>>\n",
      "<Record n=<Node id=1439 labels=frozenset({'Author'}) properties={'Name': 'Kafka, Frank'}>>\n",
      "<Record n=<Node id=1440 labels=frozenset({'Author'}) properties={'Name': 'Pratt, John'}>>\n",
      "<Record n=<Node id=1441 labels=frozenset({'Author'}) properties={'Name': 'Nisbet, Robert'}>>\n",
      "<Record n=<Node id=1442 labels=frozenset({'Author'}) properties={'Name': 'Wells, H. G.'}>>\n",
      "<Record n=<Node id=1443 labels=frozenset({'Author'}) properties={'Name': 'Heisenberg, Werner'}>>\n",
      "<Record n=<Node id=1444 labels=frozenset({'Author'}) properties={'Name': 'Oram, Andy'}>>\n",
      "<Record n=<Node id=1445 labels=frozenset({'Author'}) properties={'Name': 'Tao, Terence'}>>\n",
      "<Record n=<Node id=1446 labels=frozenset({'Author'}) properties={'Name': 'Conway, Drew'}>>\n",
      "<Record n=<Node id=1447 labels=frozenset({'Author'}) properties={'Name': 'Silver, Nate'}>>\n",
      "<Record n=<Node id=1448 labels=frozenset({'Author'}) properties={'Name': 'McKinney, Wes'}>>\n",
      "<Record n=<Node id=1449 labels=frozenset({'Author'}) properties={'Name': 'Cormen, Thomas'}>>\n",
      "<Record n=<Node id=1450 labels=frozenset({'Author'}) properties={'Name': 'Deb, Siddhartha'}>>\n",
      "<Record n=<Node id=1451 labels=frozenset({'Author'}) properties={'Name': 'Camus, Albert'}>>\n",
      "<Record n=<Node id=1452 labels=frozenset({'Author'}) properties={'Name': 'Doyle, Arthur Conan'}>>\n",
      "<Record n=<Node id=1453 labels=frozenset({'Author'}) properties={'Name': 'Smith, Adam'}>>\n",
      "<Record n=<Node id=1454 labels=frozenset({'Author'}) properties={'Name': 'Follett, Ken'}>>\n",
      "<Record n=<Node id=1455 labels=frozenset({'Author'}) properties={'Name': 'Hitler, Adolf'}>>\n",
      "<Record n=<Node id=1456 labels=frozenset({'Author'}) properties={'Name': 'Capra, Fritjof'}>>\n",
      "<Record n=<Node id=1457 labels=frozenset({'Author'}) properties={'Name': 'Feynman, Richard'}>>\n",
      "<Record n=<Node id=1458 labels=frozenset({'Author'}) properties={'Name': 'Hemingway, Ernest'}>>\n",
      "<Record n=<Node id=1459 labels=frozenset({'Author'}) properties={'Name': 'Forsyth, Frederick'}>>\n",
      "<Record n=<Node id=1460 labels=frozenset({'Author'}) properties={'Name': 'Archer, Jeffery'}>>\n",
      "<Record n=<Node id=1461 labels=frozenset({'Author'}) properties={'Name': 'Pausch, Randy'}>>\n",
      "<Record n=<Node id=1462 labels=frozenset({'Author'}) properties={'Name': 'Rand, Ayn'}>>\n",
      "<Record n=<Node id=1463 labels=frozenset({'Author'}) properties={'Name': 'Crichton, Michael'}>>\n",
      "<Record n=<Node id=1464 labels=frozenset({'Author'}) properties={'Name': 'Steinbeck, John'}>>\n",
      "<Record n=<Node id=1465 labels=frozenset({'Author'}) properties={'Name': 'Poe, Edgar Allen'}>>\n",
      "<Record n=<Node id=1466 labels=frozenset({'Author'}) properties={'Name': 'Durant, Will'}>>\n",
      "<Record n=<Node id=1467 labels=frozenset({'Author'}) properties={'Name': 'Deshpande, P L'}>>\n",
      "<Record n=<Node id=1468 labels=frozenset({'Author'}) properties={'Name': 'Grisham, John'}>>\n",
      "<Record n=<Node id=1469 labels=frozenset({'Author'}) properties={'Name': 'Naipaul, V. S.'}>>\n",
      "<Record n=<Node id=1470 labels=frozenset({'Author'}) properties={'Name': 'Heller, Joseph'}>>\n",
      "<Record n=<Node id=1471 labels=frozenset({'Author'}) properties={'Name': 'BBC'}>>\n",
      "<Record n=<Node id=1472 labels=frozenset({'Author'}) properties={'Name': 'Dylan, Bob'}>>\n",
      "<Record n=<Node id=1473 labels=frozenset({'Author'}) properties={'Name': 'Gupta, Madan'}>>\n",
      "<Record n=<Node id=1474 labels=frozenset({'Author'}) properties={'Name': 'Stonier, Alfred'}>>\n",
      "<Record n=<Node id=1475 labels=frozenset({'Author'}) properties={'Name': 'Greene, W. H.'}>>\n",
      "<Record n=<Node id=1476 labels=frozenset({'Author'}) properties={'Name': 'Bradsky, Gary'}>>\n",
      "<Record n=<Node id=1477 labels=frozenset({'Author'}) properties={'Name': 'Tanenbaum, Andrew'}>>\n",
      "<Record n=<Node id=1478 labels=frozenset({'Author'}) properties={'Name': 'Forsyth, David'}>>\n",
      "<Record n=<Node id=1479 labels=frozenset({'Author'}) properties={'Name': 'Taub, Schilling'}>>\n",
      "<Record n=<Node id=1480 labels=frozenset({'Author'}) properties={'Name': 'Kanetkar, Yashwant'}>>\n",
      "<Record n=<Node id=1481 labels=frozenset({'Author'}) properties={'Name': 'Stroud, Jonathan'}>>\n",
      "<Record n=<Node id=1482 labels=frozenset({'Author'}) properties={'Name': 'Dostoevsky, Fyodor'}>>\n",
      "<Record n=<Node id=1483 labels=frozenset({'Author'}) properties={'Name': 'Brown, Dan'}>>\n",
      "<Record n=<Node id=1484 labels=frozenset({'Author'}) properties={'Name': 'Sen, Amartya'}>>\n",
      "<Record n=<Node id=1485 labels=frozenset({'Author'}) properties={'Name': 'Ghosh, Amitav'}>>\n",
      "<Record n=<Node id=1486 labels=frozenset({'Author'}) properties={'Name': 'Hansberry, Lorraine'}>>\n",
      "<Record n=<Node id=1487 labels=frozenset({'Author'}) properties={'Name': 'Woodward, Bob'}>>\n",
      "<Record n=<Node id=1488 labels=frozenset({'Author'}) properties={'Name': 'Nayar, Kuldip'}>>\n",
      "<Record n=<Node id=1489 labels=frozenset({'Author'}) properties={'Name': 'Deshpande, Sunita'}>>\n",
      "<Record n=<Node id=1490 labels=frozenset({'Author'}) properties={'Name': 'Dalrymple, William'}>>\n",
      "<Record n=<Node id=1491 labels=frozenset({'Author'}) properties={'Name': 'Various'}>>\n",
      "<Record n=<Node id=1492 labels=frozenset({'Author'}) properties={'Name': 'Garg, Sanjay'}>>\n",
      "<Record n=<Node id=1493 labels=frozenset({'Author'}) properties={'Name': 'Kale, V P'}>>\n",
      "<Record n=<Node id=1494 labels=frozenset({'Author'}) properties={'Name': 'Tharoor, Shashi'}>>\n",
      "<Record n=<Node id=1495 labels=frozenset({'Author'}) properties={'Name': 'Lapierre, Dominique'}>>\n",
      "<Record n=<Node id=1496 labels=frozenset({'Author'}) properties={'Name': 'Russell, Bertrand'}>>\n",
      "<Record n=<Node id=1497 labels=frozenset({'Author'}) properties={'Name': 'Harris, Sam'}>>\n",
      "<Record n=<Node id=1498 labels=frozenset({'Author'}) properties={'Name': 'Gardner, Earle Stanley'}>>\n",
      "<Record n=<Node id=1499 labels=frozenset({'Author'}) properties={'Name': 'Drucker, Peter'}>>\n",
      "<Record n=<Node id=1500 labels=frozenset({'Author'}) properties={'Name': 'Bodanis, David'}>>\n",
      "<Record n=<Node id=1501 labels=frozenset({'Author'}) properties={'Name': 'Hugo, Victor'}>>\n",
      "<Record n=<Node id=1502 labels=frozenset({'Author'}) properties={'Name': 'Gordon, Richard'}>>\n",
      "<Record n=<Node id=1503 labels=frozenset({'Author'}) properties={'Name': 'Orwell, George'}>>\n",
      "<Record n=<Node id=1504 labels=frozenset({'Author'}) properties={'Name': 'Iacoca, Lee'}>>\n",
      "<Record n=<Node id=1505 labels=frozenset({'Author'}) properties={'Name': 'Maugham, William S'}>>\n",
      "<Record n=<Node id=1506 labels=frozenset({'Author'}) properties={'Name': 'Pirsig, Robert'}>>\n",
      "<Record n=<Node id=1507 labels=frozenset({'Author'}) properties={'Name': 'Fisk, Robert'}>>\n",
      "<Record n=<Node id=1508 labels=frozenset({'Author'}) properties={'Name': 'Aczel, Amir'}>>\n",
      "<Record n=<Node id=1509 labels=frozenset({'Author'}) properties={'Name': 'Huntington, Samuel'}>>\n",
      "<Record n=<Node id=1510 labels=frozenset({'Author'}) properties={'Name': 'Bach, Richard'}>>\n",
      "<Record n=<Node id=1511 labels=frozenset({'Author'}) properties={'Name': 'Braithwaite'}>>\n",
      "<Record n=<Node id=1512 labels=frozenset({'Author'}) properties={'Name': 'Naipaul, V S'}>>\n",
      "<Record n=<Node id=1513 labels=frozenset({'Author'}) properties={'Name': 'Nehru, Jawaharlal'}>>\n",
      "<Record n=<Node id=1514 labels=frozenset({'Author'}) properties={'Name': 'Durrell, Gerald'}>>\n",
      "<Record n=<Node id=1515 labels=frozenset({'Author'}) properties={'Name': 'Wells, H G'}>>\n",
      "<Record n=<Node id=1516 labels=frozenset({'Author'}) properties={'Name': 'Singh, Simon'}>>\n",
      "<Record n=<Node id=1517 labels=frozenset({'Author'}) properties={'Name': 'Duda, Hart'}>>\n",
      "<Record n=<Node id=1518 labels=frozenset({'Author'}) properties={'Name': 'Friedman, Thomas'}>>\n",
      "<Record n=<Node id=1519 labels=frozenset({'Author'}) properties={'Name': 'Devlin, Keith'}>>\n",
      "<Record n=<Node id=1520 labels=frozenset({'Author'}) properties={'Name': 'Gleick, James'}>>\n",
      "<Record n=<Node id=1521 labels=frozenset({'Author'}) properties={'Name': 'Thomas, Joy'}>>\n",
      "<Record n=<Node id=1522 labels=frozenset({'Author'}) properties={'Name': 'Rashid, Muhammad'}>>\n",
      "<Record n=<Node id=1523 labels=frozenset({'Author'}) properties={'Name': 'Mohan, Ned'}>>\n",
      "<Record n=<Node id=1524 labels=frozenset({'Author'}) properties={'Name': 'Haykin, Simon'}>>\n",
      "<Record n=<Node id=1525 labels=frozenset({'Author'}) properties={'Name': 'Rutherford, Alex'}>>\n",
      "<Record n=<Node id=1526 labels=frozenset({'Author'}) properties={'Name': 'Baz-Zohar, Michael'}>>\n",
      "<Record n=<Node id=1527 labels=frozenset({'Author'}) properties={'Name': 'Corbett, Jim'}>>\n",
      "<Record n=<Node id=1528 labels=frozenset({'Author'}) properties={'Name': 'Verne, Jules'}>>\n",
      "<Record n=<Node id=1529 labels=frozenset({'Author'}) properties={'Name': 'Deshpande P L'}>>\n",
      "<Record n=<Node id=1530 labels=frozenset({'Author'}) properties={'Name': 'Raymond, Eric'}>>\n",
      "<Record n=<Node id=1531 labels=frozenset({'Author'}) properties={'Name': 'Franco, Sergio'}>>\n",
      "<Record n=<Node id=1532 labels=frozenset({'Author'}) properties={'Name': 'Downey, Allen'}>>\n",
      "<Record n=<Node id=1533 labels=frozenset({'Author'}) properties={'Name': 'West, Morris'}>>\n",
      "<Record n=<Node id=1534 labels=frozenset({'Author'}) properties={'Name': 'Janert, Phillip'}>>\n",
      "<Record n=<Node id=1535 labels=frozenset({'Author'}) properties={'Name': 'Sagan, Carl'}>>\n",
      "<Record n=<Node id=1536 labels=frozenset({'Author'}) properties={'Name': 'Bell, E T'}>>\n",
      "<Record n=<Node id=1537 labels=frozenset({'Author'}) properties={'Name': 'Dawkins, Richard'}>>\n",
      "<Record n=<Node id=1538 labels=frozenset({'Author'}) properties={'Name': 'Ranjan, Sudhanshu'}>>\n",
      "<Record n=<Node id=1539 labels=frozenset({'Author'}) properties={'Name': 'Kautiyla'}>>\n",
      "<Record n=<Node id=1540 labels=frozenset({'Author'}) properties={'Name': 'Palkhivala'}>>\n",
      "<Record n=<Node id=1541 labels=frozenset({'Author'}) properties={'Name': 'Sorabjee'}>>\n",
      "<Record n=<Node id=1542 labels=frozenset({'Author'}) properties={'Name': 'Zaidi, Hussain'}>>\n",
      "<Record n=<Node id=1543 labels=frozenset({'Author'}) properties={'Name': 'Ackroyd, Peter'}>>\n",
      "<Record n=<Node id=1544 labels=frozenset({'Author'}) properties={'Name': 'Nariman'}>>\n",
      "<Record n=<Node id=1545 labels=frozenset({'Author'}) properties={'Name': 'Sassoon, Jean'}>>\n",
      "<Record n=<Node id=1546 labels=frozenset({'Author'}) properties={'Name': 'Dickinson, Peter'}>>\n",
      "<Record n=<Node id=1547 labels=frozenset({'Author'}) properties={'Name': 'Machiavelli'}>>\n",
      "<Record n=<Node id=1548 labels=frozenset({'Author'}) properties={'Name': 'Huxley, Aldous'}>>\n",
      "<Record n=<Node id=1549 labels=frozenset({'Author'}) properties={'Name': 'Rowling, J K'}>>\n",
      "<Record n=<Node id=1550 labels=frozenset({'Author'}) properties={'Name': 'Larsson, Steig'}>>\n",
      "<Record n=<Node id=1551 labels=frozenset({'Author'}) properties={'Name': 'Eddins, Steve'}>>\n",
      "<Record n=<Node id=1552 labels=frozenset({'Author'}) properties={'Name': 'Dickens, Charles'}>>\n",
      "<Record n=<Node id=1553 labels=frozenset({'Publisher'}) properties={'name': 'Wiley'}>>\n",
      "<Record n=<Node id=1554 labels=frozenset({'Publisher'}) properties={'name': 'Penguin'}>>\n",
      "<Record n=<Node id=1555 labels=frozenset({'Publisher'}) properties={'name': 'HarperCollins'}>>\n",
      "<Record n=<Node id=1556 labels=frozenset({'Publisher'}) properties={'name': 'Springer'}>>\n",
      "<Record n=<Node id=1557 labels=frozenset({'Publisher'}) properties={'name': 'Orient Blackswan'}>>\n",
      "<Record n=<Node id=1558 labels=frozenset({'Publisher'}) properties={'name': 'CRC'}>>\n",
      "<Record n=<Node id=1559 labels=frozenset({'Publisher'}) properties={'name': 'Apress'}>>\n",
      "<Record n=<Node id=1560 labels=frozenset({'Publisher'}) properties={'name': 'Random House'}>>\n",
      "<Record n=<Node id=1561 labels=frozenset({'Publisher'}) properties={'name': 'Bodley Head'}>>\n",
      "<Record n=<Node id=1562 labels=frozenset({'Publisher'}) properties={'name': 'MIT Press'}>>\n",
      "<Record n=<Node id=1563 labels=frozenset({'Publisher'}) properties={'name': \"O'Reilly\"}>>\n",
      "<Record n=<Node id=1564 labels=frozenset({'Publisher'}) properties={'name': 'HBA'}>>\n",
      "<Record n=<Node id=1565 labels=frozenset({'Publisher'}) properties={'name': 'Rupa'}>>\n",
      "<Record n=<Node id=1566 labels=frozenset({'Publisher'}) properties={'name': 'Transworld'}>>\n",
      "<Record n=<Node id=1567 labels=frozenset({'Publisher'}) properties={'name': 'Pan'}>>\n",
      "<Record n=<Node id=1568 labels=frozenset({'Publisher'}) properties={'name': 'Hyperion'}>>\n",
      "<Record n=<Node id=1569 labels=frozenset({'Publisher'}) properties={'name': 'Pocket'}>>\n",
      "<Record n=<Node id=1570 labels=frozenset({'Publisher'}) properties={'name': 'Mauj'}>>\n",
      "<Record n=<Node id=1571 labels=frozenset({'Publisher'}) properties={'name': 'BBC'}>>\n",
      "<Record n=<Node id=1572 labels=frozenset({'Publisher'}) properties={'name': 'Elsevier'}>>\n",
      "<Record n=<Node id=1573 labels=frozenset({'Publisher'}) properties={'name': 'Pearson'}>>\n",
      "<Record n=<Node id=1574 labels=frozenset({'Publisher'}) properties={'name': 'Prentice Hall'}>>\n",
      "<Record n=<Node id=1575 labels=frozenset({'Publisher'}) properties={'name': 'TMH'}>>\n",
      "<Record n=<Node id=1576 labels=frozenset({'Publisher'}) properties={'name': 'Picador'}>>\n",
      "<Record n=<Node id=1577 labels=frozenset({'Publisher'}) properties={'name': 'vikas'}>>\n",
      "<Record n=<Node id=1578 labels=frozenset({'Publisher'}) properties={'name': 'Routledge'}>>\n",
      "<Record n=<Node id=1579 labels=frozenset({'Publisher'}) properties={'name': 'FreePress'}>>\n",
      "<Record n=<Node id=1580 labels=frozenset({'Publisher'}) properties={'name': 'Jaico'}>>\n",
      "<Record n=<Node id=1581 labels=frozenset({'Publisher'}) properties={'name': 'Vintage'}>>\n",
      "<Record n=<Node id=1582 labels=frozenset({'Publisher'}) properties={'name': 'HighStakes'}>>\n",
      "<Record n=<Node id=1583 labels=frozenset({'Publisher'}) properties={'name': 'Simon&Schuster'}>>\n",
      "<Record n=<Node id=1584 labels=frozenset({'Publisher'}) properties={'name': 'Fontana'}>>\n",
      "<Record n=<Node id=1585 labels=frozenset({'Publisher'}) properties={'name': 'Dell'}>>\n",
      "<Record n=<Node id=1586 labels=frozenset({'Genre'}) properties={'name': 'signal_processing'}>>\n",
      "<Record n=<Node id=1587 labels=frozenset({'Genre'}) properties={'name': 'data_science'}>>\n",
      "<Record n=<Node id=1588 labels=frozenset({'Genre'}) properties={'name': 'mathematics'}>>\n",
      "<Record n=<Node id=1589 labels=frozenset({'Genre'}) properties={'name': 'economics'}>>\n",
      "<Record n=<Node id=1590 labels=frozenset({'Genre'}) properties={'name': 'history'}>>\n",
      "<Record n=<Node id=1591 labels=frozenset({'Genre'}) properties={'name': 'science'}>>\n",
      "<Record n=<Node id=1592 labels=frozenset({'Genre'}) properties={'name': 'psychology'}>>\n",
      "<Record n=<Node id=1593 labels=frozenset({'Genre'}) properties={'name': 'fiction'}>>\n",
      "<Record n=<Node id=1594 labels=frozenset({'Genre'}) properties={'name': 'computer_science'}>>\n",
      "<Record n=<Node id=1595 labels=frozenset({'Genre'}) properties={'name': 'nonfiction'}>>\n",
      "<Record n=<Node id=1596 labels=frozenset({'Genre'}) properties={'name': 'philosophy'}>>\n",
      "<Record n=<Node id=1597 labels=frozenset({'Title'}) properties={'Name': 'Grokking Algorithms'}>>\n",
      "<Record n=<Node id=1598 labels=frozenset({'Title'}) properties={'Name': 'Grokking Algorithms'}>>\n",
      "<Record n=<Node id=1599 labels=frozenset({'Genre'}) properties={'name': 'computer_science'}>>\n",
      "<Record n=<Node id=1600 labels=frozenset({'Title'}) properties={'Name': 'Grokking Algorithms'}>>\n"
     ]
    }
   ],
   "source": [
    "for node in nodes:\n",
    "    print(node)"
   ]
  },
  {
   "cell_type": "code",
   "execution_count": 9,
   "metadata": {},
   "outputs": [],
   "source": [
    "query1=\"MATCH (n:Genre) RETURN n \"\n",
    "genres=session.run(query1)"
   ]
  },
  {
   "cell_type": "markdown",
   "metadata": {},
   "source": [
    "Displaying a paricular node \"Genre\""
   ]
  },
  {
   "cell_type": "code",
   "execution_count": 10,
   "metadata": {},
   "outputs": [
    {
     "name": "stdout",
     "output_type": "stream",
     "text": [
      "<Record n=<Node id=1586 labels=frozenset({'Genre'}) properties={'name': 'signal_processing'}>>\n",
      "<Record n=<Node id=1587 labels=frozenset({'Genre'}) properties={'name': 'data_science'}>>\n",
      "<Record n=<Node id=1588 labels=frozenset({'Genre'}) properties={'name': 'mathematics'}>>\n",
      "<Record n=<Node id=1589 labels=frozenset({'Genre'}) properties={'name': 'economics'}>>\n",
      "<Record n=<Node id=1590 labels=frozenset({'Genre'}) properties={'name': 'history'}>>\n",
      "<Record n=<Node id=1591 labels=frozenset({'Genre'}) properties={'name': 'science'}>>\n",
      "<Record n=<Node id=1592 labels=frozenset({'Genre'}) properties={'name': 'psychology'}>>\n",
      "<Record n=<Node id=1593 labels=frozenset({'Genre'}) properties={'name': 'fiction'}>>\n",
      "<Record n=<Node id=1594 labels=frozenset({'Genre'}) properties={'name': 'computer_science'}>>\n",
      "<Record n=<Node id=1595 labels=frozenset({'Genre'}) properties={'name': 'nonfiction'}>>\n",
      "<Record n=<Node id=1596 labels=frozenset({'Genre'}) properties={'name': 'philosophy'}>>\n",
      "<Record n=<Node id=1599 labels=frozenset({'Genre'}) properties={'name': 'computer_science'}>>\n"
     ]
    }
   ],
   "source": [
    "for g in genres:\n",
    "    print(g)"
   ]
  },
  {
   "cell_type": "markdown",
   "metadata": {},
   "source": [
    "Create a new Node"
   ]
  },
  {
   "cell_type": "code",
   "execution_count": 11,
   "metadata": {},
   "outputs": [
    {
     "name": "stdout",
     "output_type": "stream",
     "text": [
      "<neo4j.work.result.Result object at 0x0554E270>\n"
     ]
    }
   ],
   "source": [
    "query2=\"CREATE (t:Title{Name:'Grokking Algorithms'})\"\n",
    "session.run(query2)\n",
    "query3=\"MATCH (n:Title) where n.Name='Grokking Algorithms' RETURN n\"\n",
    "titles=session.run(query3)\n",
    "print(titles)"
   ]
  },
  {
   "cell_type": "markdown",
   "metadata": {},
   "source": [
    "Create a relationship"
   ]
  },
  {
   "cell_type": "code",
   "execution_count": 12,
   "metadata": {},
   "outputs": [
    {
     "name": "stdout",
     "output_type": "stream",
     "text": [
      "<neo4j.work.result.Result object at 0x05539610>\n"
     ]
    }
   ],
   "source": [
    "query4=\"MERGE (g:Genre {name:'computer_science'}) -[:Category_of]->(t:Title{Name:'Grokking Algorithms'})\"\n",
    "print(session.run(query4))\n"
   ]
  },
  {
   "cell_type": "markdown",
   "metadata": {},
   "source": [
    "install Py2neo package"
   ]
  },
  {
   "cell_type": "code",
   "execution_count": 13,
   "metadata": {},
   "outputs": [
    {
     "name": "stdout",
     "output_type": "stream",
     "text": [
      "Requirement already satisfied: py2neo in c:\\users\\admin\\anaconda3\\lib\\site-packages (2021.2.3)\n",
      "Requirement already satisfied: six>=1.15.0 in c:\\users\\admin\\anaconda3\\lib\\site-packages (from py2neo) (1.16.0)\n",
      "Requirement already satisfied: certifi in c:\\users\\admin\\anaconda3\\lib\\site-packages (from py2neo) (2021.10.8)\n",
      "Requirement already satisfied: packaging in c:\\users\\admin\\anaconda3\\lib\\site-packages (from py2neo) (18.0)\n",
      "Requirement already satisfied: urllib3 in c:\\users\\admin\\anaconda3\\lib\\site-packages (from py2neo) (1.24.1)\n",
      "Requirement already satisfied: interchange~=2021.0.4 in c:\\users\\admin\\anaconda3\\lib\\site-packages (from py2neo) (2021.0.4)\n",
      "Requirement already satisfied: monotonic in c:\\users\\admin\\anaconda3\\lib\\site-packages (from py2neo) (1.6)\n",
      "Requirement already satisfied: pygments>=2.0.0 in c:\\users\\admin\\anaconda3\\lib\\site-packages (from py2neo) (2.3.1)\n",
      "Requirement already satisfied: pansi>=2020.7.3 in c:\\users\\admin\\anaconda3\\lib\\site-packages (from py2neo) (2020.7.3)\n",
      "Requirement already satisfied: pyparsing>=2.0.2 in c:\\users\\admin\\anaconda3\\lib\\site-packages (from packaging->py2neo) (2.3.0)\n",
      "Requirement already satisfied: pytz in c:\\users\\admin\\anaconda3\\lib\\site-packages (from interchange~=2021.0.4->py2neo) (2018.7)\n"
     ]
    }
   ],
   "source": [
    "! pip install py2neo"
   ]
  },
  {
   "cell_type": "markdown",
   "metadata": {},
   "source": [
    "# Convert nodes into dataframes"
   ]
  },
  {
   "cell_type": "code",
   "execution_count": 14,
   "metadata": {},
   "outputs": [],
   "source": [
    "from pandas import DataFrame"
   ]
  },
  {
   "cell_type": "code",
   "execution_count": 15,
   "metadata": {},
   "outputs": [],
   "source": [
    "n=session.run(query).data()"
   ]
  },
  {
   "cell_type": "code",
   "execution_count": 16,
   "metadata": {},
   "outputs": [],
   "source": [
    "df = DataFrame(n)"
   ]
  },
  {
   "cell_type": "markdown",
   "metadata": {},
   "source": [
    "Show the first five rows"
   ]
  },
  {
   "cell_type": "code",
   "execution_count": 17,
   "metadata": {},
   "outputs": [
    {
     "data": {
      "text/html": [
       "<div>\n",
       "<style scoped>\n",
       "    .dataframe tbody tr th:only-of-type {\n",
       "        vertical-align: middle;\n",
       "    }\n",
       "\n",
       "    .dataframe tbody tr th {\n",
       "        vertical-align: top;\n",
       "    }\n",
       "\n",
       "    .dataframe thead th {\n",
       "        text-align: right;\n",
       "    }\n",
       "</style>\n",
       "<table border=\"1\" class=\"dataframe\">\n",
       "  <thead>\n",
       "    <tr style=\"text-align: right;\">\n",
       "      <th></th>\n",
       "      <th>n</th>\n",
       "    </tr>\n",
       "  </thead>\n",
       "  <tbody>\n",
       "    <tr>\n",
       "      <th>0</th>\n",
       "      <td>{'Name': 'Grokking Algorithms'}</td>\n",
       "    </tr>\n",
       "    <tr>\n",
       "      <th>1</th>\n",
       "      <td>{'Name': 'Grokking Algorithms'}</td>\n",
       "    </tr>\n",
       "    <tr>\n",
       "      <th>2</th>\n",
       "      <td>{'Pages': '228', 'Name': 'Fundamentals of Wave...</td>\n",
       "    </tr>\n",
       "    <tr>\n",
       "      <th>3</th>\n",
       "      <td>{'Pages': '235', 'Name': 'Data Smart'}</td>\n",
       "    </tr>\n",
       "    <tr>\n",
       "      <th>4</th>\n",
       "      <td>{'Pages': '197', 'Name': 'God Created the Inte...</td>\n",
       "    </tr>\n",
       "  </tbody>\n",
       "</table>\n",
       "</div>"
      ],
      "text/plain": [
       "                                                   n\n",
       "0                    {'Name': 'Grokking Algorithms'}\n",
       "1                    {'Name': 'Grokking Algorithms'}\n",
       "2  {'Pages': '228', 'Name': 'Fundamentals of Wave...\n",
       "3             {'Pages': '235', 'Name': 'Data Smart'}\n",
       "4  {'Pages': '197', 'Name': 'God Created the Inte..."
      ]
     },
     "execution_count": 17,
     "metadata": {},
     "output_type": "execute_result"
    }
   ],
   "source": [
    "df.head()"
   ]
  },
  {
   "cell_type": "markdown",
   "metadata": {},
   "source": [
    "Show a particular node \"Genre\""
   ]
  },
  {
   "cell_type": "code",
   "execution_count": 18,
   "metadata": {},
   "outputs": [],
   "source": [
    "q=\"MATCH (n:Genre) RETURN n \"\n",
    "nd=session.run(q).data()"
   ]
  },
  {
   "cell_type": "code",
   "execution_count": 19,
   "metadata": {},
   "outputs": [],
   "source": [
    "df1 = DataFrame(nd)"
   ]
  },
  {
   "cell_type": "code",
   "execution_count": 20,
   "metadata": {},
   "outputs": [
    {
     "data": {
      "text/html": [
       "<div>\n",
       "<style scoped>\n",
       "    .dataframe tbody tr th:only-of-type {\n",
       "        vertical-align: middle;\n",
       "    }\n",
       "\n",
       "    .dataframe tbody tr th {\n",
       "        vertical-align: top;\n",
       "    }\n",
       "\n",
       "    .dataframe thead th {\n",
       "        text-align: right;\n",
       "    }\n",
       "</style>\n",
       "<table border=\"1\" class=\"dataframe\">\n",
       "  <thead>\n",
       "    <tr style=\"text-align: right;\">\n",
       "      <th></th>\n",
       "      <th>n</th>\n",
       "    </tr>\n",
       "  </thead>\n",
       "  <tbody>\n",
       "    <tr>\n",
       "      <th>0</th>\n",
       "      <td>{'name': 'signal_processing'}</td>\n",
       "    </tr>\n",
       "    <tr>\n",
       "      <th>1</th>\n",
       "      <td>{'name': 'data_science'}</td>\n",
       "    </tr>\n",
       "    <tr>\n",
       "      <th>2</th>\n",
       "      <td>{'name': 'mathematics'}</td>\n",
       "    </tr>\n",
       "    <tr>\n",
       "      <th>3</th>\n",
       "      <td>{'name': 'economics'}</td>\n",
       "    </tr>\n",
       "    <tr>\n",
       "      <th>4</th>\n",
       "      <td>{'name': 'history'}</td>\n",
       "    </tr>\n",
       "  </tbody>\n",
       "</table>\n",
       "</div>"
      ],
      "text/plain": [
       "                               n\n",
       "0  {'name': 'signal_processing'}\n",
       "1       {'name': 'data_science'}\n",
       "2        {'name': 'mathematics'}\n",
       "3          {'name': 'economics'}\n",
       "4            {'name': 'history'}"
      ]
     },
     "execution_count": 20,
     "metadata": {},
     "output_type": "execute_result"
    }
   ],
   "source": [
    "df1.head()"
   ]
  }
 ],
 "metadata": {
  "celltoolbar": "Format de la Cellule Texte Brut",
  "kernelspec": {
   "display_name": "Python 3",
   "language": "python",
   "name": "python3"
  },
  "language_info": {
   "codemirror_mode": {
    "name": "ipython",
    "version": 3
   },
   "file_extension": ".py",
   "mimetype": "text/x-python",
   "name": "python",
   "nbconvert_exporter": "python",
   "pygments_lexer": "ipython3",
   "version": "3.7.1"
  }
 },
 "nbformat": 4,
 "nbformat_minor": 2
}
