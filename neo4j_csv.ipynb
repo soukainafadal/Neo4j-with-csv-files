{
 "cells": [
  {
   "cell_type": "markdown",
   "metadata": {},
   "source": [
    "# Import Csv file into Neo4j with python"
   ]
  },
  {
   "cell_type": "code",
   "execution_count": 30,
   "metadata": {},
   "outputs": [
    {
     "name": "stdout",
     "output_type": "stream",
     "text": [
      "Requirement already satisfied: neo4j in c:\\users\\admin\\anaconda3\\lib\\site-packages (4.4.1)\n",
      "Requirement already satisfied: pytz in c:\\users\\admin\\anaconda3\\lib\\site-packages (from neo4j) (2018.7)\n"
     ]
    }
   ],
   "source": [
    "! pip install neo4j"
   ]
  },
  {
   "cell_type": "code",
   "execution_count": 31,
   "metadata": {},
   "outputs": [],
   "source": [
    "from neo4j import GraphDatabase"
   ]
  },
  {
   "cell_type": "markdown",
   "metadata": {},
   "source": [
    "Connect to server"
   ]
  },
  {
   "cell_type": "code",
   "execution_count": 33,
   "metadata": {},
   "outputs": [],
   "source": [
    "uri=\"bolt://localhost:7687\"\n",
    "pwd=\"root\"\n",
    "driver= GraphDatabase.driver(uri, auth=(\"neo4j\",pwd))"
   ]
  },
  {
   "cell_type": "code",
   "execution_count": 34,
   "metadata": {},
   "outputs": [
    {
     "data": {
      "text/plain": [
       "<neo4j.BoltDriver at 0x42a25f0>"
      ]
     },
     "execution_count": 34,
     "metadata": {},
     "output_type": "execute_result"
    }
   ],
   "source": [
    "driver"
   ]
  },
  {
   "cell_type": "code",
   "execution_count": 35,
   "metadata": {},
   "outputs": [],
   "source": [
    "session=driver.session()"
   ]
  },
  {
   "cell_type": "markdown",
   "metadata": {},
   "source": [
    "import csv file using Neo4j query"
   ]
  },
  {
   "cell_type": "code",
   "execution_count": 37,
   "metadata": {},
   "outputs": [
    {
     "data": {
      "text/plain": [
       "<neo4j.work.result.Result at 0x42af710>"
      ]
     },
     "execution_count": 37,
     "metadata": {},
     "output_type": "execute_result"
    }
   ],
   "source": [
    "query='''LOAD CSV WITH HEADERS FROM 'file:///books.csv' AS row \\\n",
    "with row WHERE row.Title IS NOT NULL AND row.Author IS NOT NULL\\\n",
    "MERGE (t:Title{Name:row.Title}) \\\n",
    "MERGE (a:Author{Name:row.Author}) \\\n",
    "MERGE (t)-[:Written_by]->(a)'''\n",
    "session.run(query)"
   ]
  },
  {
   "cell_type": "markdown",
   "metadata": {},
   "source": [
    "Update query"
   ]
  },
  {
   "cell_type": "code",
   "execution_count": 42,
   "metadata": {},
   "outputs": [
    {
     "data": {
      "text/plain": [
       "<neo4j.work.result.Result at 0x4267050>"
      ]
     },
     "execution_count": 42,
     "metadata": {},
     "output_type": "execute_result"
    }
   ],
   "source": [
    "query1=''' LOAD CSV WITH HEADERS FROM 'file:///books.csv' AS row \\\n",
    "with row WHERE row.Title IS NOT NULL AND row.Author IS NOT NULL \\\n",
    "MERGE (t:Title{Name:row.Title}) \\\n",
    "MERGE (a:Author{Name:row.Author}) \\\n",
    "MERGE (t)-[:Written_by]->(a) \\\n",
    "set t.Pages=row.Height'''\n",
    "session.run(query1)"
   ]
  },
  {
   "cell_type": "code",
   "execution_count": null,
   "metadata": {},
   "outputs": [],
   "source": []
  }
 ],
 "metadata": {
  "kernelspec": {
   "display_name": "Python 3",
   "language": "python",
   "name": "python3"
  },
  "language_info": {
   "codemirror_mode": {
    "name": "ipython",
    "version": 3
   },
   "file_extension": ".py",
   "mimetype": "text/x-python",
   "name": "python",
   "nbconvert_exporter": "python",
   "pygments_lexer": "ipython3",
   "version": "3.7.1"
  }
 },
 "nbformat": 4,
 "nbformat_minor": 2
}
